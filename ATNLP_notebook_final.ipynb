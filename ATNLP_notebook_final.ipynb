{
 "cells": [
  {
   "cell_type": "markdown",
   "source": "# Prerequisites",
   "metadata": {
    "cell_id": "00000-b2b1a97e-7540-482c-b70c-3d2248520e16",
    "deepnote_cell_type": "markdown"
   }
  },
  {
   "cell_type": "code",
   "metadata": {
    "cell_id": "00001-73f94152-c236-4a87-902f-b22fa261f24c",
    "deepnote_to_be_reexecuted": false,
    "source_hash": "cd9d1a5b",
    "execution_start": 1639314475879,
    "execution_millis": 1,
    "deepnote_cell_type": "code"
   },
   "source": "# Install the required pip packages in the current Jupyter kernel\n# import sys\n# !{sys.executable} -m pip install numpy pandas seaborn matplotlib torch transformers spacy sklearn",
   "execution_count": null,
   "outputs": []
  },
  {
   "cell_type": "code",
   "metadata": {
    "deepnote_to_be_reexecuted": false,
    "execution_millis": 4884,
    "execution_start": 1639314478521,
    "source_hash": "e50f375b",
    "tags": [],
    "cell_id": "00002-a530e0a6-637f-4d33-a159-36c0543ae8d8",
    "deepnote_cell_type": "code"
   },
   "source": "import torch\nimport numpy as np\nimport matplotlib.pyplot as plt\nimport os",
   "execution_count": null,
   "outputs": []
  },
  {
   "cell_type": "code",
   "metadata": {
    "deepnote_output_heights": [
     21
    ],
    "deepnote_to_be_reexecuted": false,
    "execution_millis": 29,
    "execution_start": 1639314483416,
    "source_hash": "340a1bfb",
    "tags": [],
    "cell_id": "00003-7e37da20-12ea-4840-8450-bc01b6fdb6b4",
    "deepnote_cell_type": "code"
   },
   "source": "torch.manual_seed(2)",
   "execution_count": null,
   "outputs": [
    {
     "output_type": "execute_result",
     "execution_count": 3,
     "data": {
      "text/plain": "<torch._C.Generator at 0x7f78bad6acf0>"
     },
     "metadata": {}
    }
   ]
  },
  {
   "cell_type": "code",
   "metadata": {
    "cell_id": "00004-2aff1c6d-be73-4f16-a105-49fb24b2a31e",
    "deepnote_to_be_reexecuted": false,
    "source_hash": "47fe07ac",
    "execution_start": 1639314483470,
    "execution_millis": 7000534,
    "deepnote_cell_type": "code"
   },
   "source": "device = torch.device(\"cuda\" if torch.cuda.is_available() else \"cpu\")",
   "execution_count": null,
   "outputs": []
  },
  {
   "cell_type": "markdown",
   "source": "# Loading and Preprocessing",
   "metadata": {
    "is_collapsed": false,
    "tags": [],
    "cell_id": "00005-90b0b545-67fa-4358-8471-0e8100d713cc",
    "deepnote_cell_type": "text-cell-h1"
   }
  },
  {
   "cell_type": "code",
   "metadata": {
    "deepnote_to_be_reexecuted": false,
    "execution_millis": 6,
    "execution_start": 1639314484101,
    "source_hash": "6740667e",
    "tags": [],
    "cell_id": "00012-35091ad4-1ae1-4579-8f18-9719d09e9819",
    "deepnote_cell_type": "code"
   },
   "source": "def read_data(path):\n    X = []\n    y = []\n    with open(path) as f:\n        for line in f:\n            vals = line.split(\" OUT: \")\n            inp = vals[0][4:].split()\n            out = vals[1].split()\n            X.append(inp)\n            y.append(out)\n    return X, y",
   "execution_count": null,
   "outputs": []
  },
  {
   "cell_type": "code",
   "metadata": {
    "deepnote_output_heights": [
     21.1875
    ],
    "deepnote_to_be_reexecuted": false,
    "execution_millis": 7000544,
    "execution_start": 1639314483494,
    "source_hash": "e9a6def4",
    "tags": [],
    "cell_id": "00006-4a1c3d74-659f-4c91-8400-c65bab28e443",
    "deepnote_cell_type": "code"
   },
   "source": "def create_vocab(data):\n    vocab = set()\n\n    # Add all our words into a set for getting unique ones\n    for sent in data:\n        for word in sent:\n            vocab.add(word)\n    return vocab",
   "execution_count": null,
   "outputs": []
  },
  {
   "cell_type": "code",
   "metadata": {
    "cell_id": "00007-bcb005e0-33f5-4e59-8b9b-c60df21075df",
    "deepnote_to_be_reexecuted": false,
    "source_hash": "db173241",
    "execution_start": 1639314483547,
    "execution_millis": 7000535,
    "deepnote_cell_type": "code"
   },
   "source": "SOS_token = 0\nEOS_token = 1",
   "execution_count": null,
   "outputs": []
  },
  {
   "cell_type": "code",
   "metadata": {
    "deepnote_to_be_reexecuted": false,
    "execution_millis": 7000494,
    "execution_start": 1639314483548,
    "source_hash": "daad3559",
    "tags": [],
    "cell_id": "00008-1a150afc-83cc-4173-8e6f-93a1ff74210a",
    "deepnote_cell_type": "code"
   },
   "source": "def get_vocab_dicts(vocab : set) -> (dict, dict):    \n    # Initialise our dict with a token for padding \n    # and a token for representing words not in our vocab\n    w2i = {'<SOS>': 0, '<EOS>': 1, '<UNK>':2}\n    n_special_toks = len(w2i)\n\n    # Add all tokens in vocab to dict\n    for i, w in enumerate(vocab):\n        w2i[w] = i + n_special_toks\n\n    i2w = dict(enumerate(w2i.keys()))\n\n    return w2i, i2w",
   "execution_count": null,
   "outputs": []
  },
  {
   "cell_type": "code",
   "metadata": {
    "tags": [],
    "cell_id": "00010-3917b82d-8ad2-4dd7-b0b3-1852a0479c32",
    "deepnote_to_be_reexecuted": false,
    "source_hash": "64a4c714",
    "execution_start": 1639314483596,
    "execution_millis": 7000543,
    "deepnote_cell_type": "code"
   },
   "source": "# Convert each sentence to a list of indices from the word2idx dict\ndef numericalize(input, word2idx, vocab):\n    out = []\n\n    for sent in input:\n        sent_num = []\n\n        sent_num.append(np.float(word2idx['<SOS>']))\n\n        for word in sent:\n            if word in vocab:\n                sent_num.append(np.float(word2idx[word]))\n            else:\n                sent_num.append(np.float(word2idx['<UNK>']))\n        out.append(sent_num)\n\n        sent_num.append(np.float(word2idx['<EOS>']))\n    \n    return out",
   "execution_count": null,
   "outputs": []
  },
  {
   "cell_type": "code",
   "metadata": {
    "deepnote_to_be_reexecuted": false,
    "execution_millis": 7000194,
    "execution_start": 1639314483596,
    "source_hash": "1ada4066",
    "tags": [],
    "cell_id": "00010-322afeea-1a73-405d-a4e5-5c5871787f96",
    "deepnote_cell_type": "code"
   },
   "source": "from torch.utils.data import Dataset, DataLoader\nfrom torch.nn.utils.rnn import pad_sequence\nfrom torch import Tensor\nimport numpy as np\nimport collections",
   "execution_count": null,
   "outputs": []
  },
  {
   "cell_type": "code",
   "metadata": {
    "deepnote_to_be_reexecuted": false,
    "execution_millis": 0,
    "execution_start": 1639314483719,
    "source_hash": "c09477ca",
    "tags": [],
    "cell_id": "00011-34e029fe-331c-4c57-9bff-40ac5c9a03f1",
    "deepnote_cell_type": "code"
   },
   "source": "class SCANData(Dataset):\n    def __init__(self, inp, out):\n        self.inp = inp\n        self.out = out\n        self.len = len(inp)\n\n    def __getitem__(self, index):\n        i = torch.tensor(self.inp[index], dtype=torch.long, device=device).view(-1, 1)\n        o = torch.tensor(self.out[index], dtype=torch.long, device=device).view(-1, 1)\n        return i, o\n\n    def __len__(self):\n        return self.len",
   "execution_count": null,
   "outputs": []
  },
  {
   "cell_type": "code",
   "metadata": {
    "deepnote_to_be_reexecuted": false,
    "execution_millis": 4,
    "execution_start": 1639314486515,
    "source_hash": "8e368c7f",
    "tags": [],
    "cell_id": "00013-325caad2-4087-4d41-a103-9045a9db49ea",
    "deepnote_cell_type": "code"
   },
   "source": "def create_loaders(0, batch_size=1):\n    train_X, train_y = read_data(path_train)\n    test_X, test_y = read_data(path_test)\n\n    vocab_inp = create_vocab(train_X)\n    vocab_out = create_vocab(train_y)\n    w2i_inp, i2w_inp = get_vocab_dicts(vocab_inp)\n    w2i_out, i2w_out = get_vocab_dicts(vocab_out)\n\n    train_X_num = numericalize(train_X, w2i_inp, vocab_inp)\n    train_y_num = numericalize(train_y, w2i_out, vocab_out)\n\n    test_X_num = numericalize(test_X, w2i_inp, vocab_inp)\n    test_y_num = numericalize(test_y, w2i_out, vocab_out)\n\n    dataset_train = SCANData(train_X_num, train_y_num)\n    dataset_test = SCANData(test_X_num, test_y_num)\n\n    train_loader = DataLoader(dataset=dataset_train)\n    test_loader = DataLoader(dataset=dataset_test)\n\n    return train_loader, test_loader, i2w_inp, i2w_out",
   "execution_count": null,
   "outputs": []
  },
  {
   "cell_type": "markdown",
   "source": "# General architecture",
   "metadata": {
    "cell_id": "00014-8da08265-2165-4bbe-99bb-7ed49eefa081",
    "deepnote_cell_type": "markdown"
   }
  },
  {
   "cell_type": "markdown",
   "source": "Should support the following parameters:\n- LSTM vs GRU ✓\n- Hidden-size (embedding size always the same) ✓\n- Number of layers ✓\n- Dropout ✓\n- Attention",
   "metadata": {
    "cell_id": "00015-229c763a-d501-4b7d-a70d-c3747c8ca538",
    "deepnote_cell_type": "markdown"
   }
  },
  {
   "cell_type": "code",
   "metadata": {
    "cell_id": "00016-95db1444-c8b6-4645-8272-081ee284878b",
    "deepnote_to_be_reexecuted": false,
    "source_hash": "66142087",
    "execution_start": 1639314489338,
    "execution_millis": 2,
    "deepnote_cell_type": "code"
   },
   "source": "import torch\nimport torch.nn as nn\nfrom torch import optim\nimport torch.nn.functional as F",
   "execution_count": null,
   "outputs": []
  },
  {
   "cell_type": "code",
   "metadata": {
    "cell_id": "00017-26c5cd0f-f273-43e0-a61f-29b5951d1933",
    "deepnote_to_be_reexecuted": false,
    "source_hash": "b71c59ec",
    "execution_start": 1639314490020,
    "execution_millis": 3,
    "deepnote_cell_type": "code"
   },
   "source": "class EncoderRNN(nn.Module):\n    def __init__(self, input_size, hidden_size,\n                 num_layers=2, dropout=0, rnn_type=nn.LSTM):\n        super(EncoderRNN, self).__init__()\n        self.hidden_size = hidden_size\n        self.num_layers = num_layers\n        self.rnn_type = rnn_type\n        self.dropout = nn.Dropout(dropout)\n\n        self.embedding = nn.Embedding(input_size, hidden_size)\n        self.rnn = rnn_type(hidden_size, hidden_size, num_layers=num_layers,\n                            dropout=dropout)            \n\n    def forward(self, input, hidden):\n        embedded = self.embedding(input).view(1, 1, -1)\n        embedded = self.dropout(embedded)\n        output = embedded\n        output, hidden = self.rnn(output, hidden)\n        return output, hidden\n\n    def init_hidden(self):\n        hn = torch.zeros(self.num_layers, 1, self.hidden_size, device=device)\n        if self.rnn_type != nn.LSTM:\n            return hn\n        cn = torch.zeros(self.num_layers, 1, self.hidden_size, device=device)\n        return (hn, cn)\n",
   "execution_count": null,
   "outputs": []
  },
  {
   "cell_type": "code",
   "metadata": {
    "cell_id": "00018-0aea48ac-eb54-4802-9fca-c1e30833c6d3",
    "deepnote_to_be_reexecuted": false,
    "source_hash": "7db0f0de",
    "execution_start": 1639314491105,
    "execution_millis": 5,
    "deepnote_cell_type": "code"
   },
   "source": "class DecoderRNN(nn.Module):\n    def __init__(self, hidden_size, output_size,\n                 num_layers=2, dropout=0, rnn_type=nn.LSTM):\n        super(DecoderRNN, self).__init__()\n        self.num_layers = num_layers\n        self.rnn_type = rnn_type\n        self.dropout = nn.Dropout(dropout)\n\n        self.embedding = nn.Embedding(output_size, hidden_size)\n        self.rnn = rnn_type(hidden_size, hidden_size, num_layers=num_layers,\n                            dropout=dropout)\n        self.out = nn.Linear(hidden_size, output_size)\n        self.softmax = nn.LogSoftmax(dim=1)\n\n    def forward(self, input, hidden, encoder_outputs=None):\n        # encoder_outputs is unused without attention\n        # it's passed simply for api consistency\n        output = self.embedding(input).view(1, 1, -1)\n        output = self.dropout(output)\n        \n        output = F.relu(output)\n        output, hidden = self.rnn(output, hidden)\n        output = self.softmax(self.out(output[0]))\n        \n        return output, hidden, None",
   "execution_count": null,
   "outputs": []
  },
  {
   "cell_type": "code",
   "metadata": {
    "cell_id": "00019-f791ad98-b1bc-49a1-a1c7-eb386707f88f",
    "deepnote_to_be_reexecuted": false,
    "source_hash": "4515c564",
    "execution_start": 1639314492187,
    "execution_millis": 4,
    "deepnote_cell_type": "code"
   },
   "source": "class AttnDecoderRNN(nn.Module):\n    def __init__(self, hidden_size, output_size, max_length,\n                 num_layers=2, dropout_p=0, rnn_type=nn.LSTM):\n        super(AttnDecoderRNN, self).__init__()\n        self.num_layers = num_layers\n        self.rnn_type = rnn_type\n\n        self.embedding = nn.Embedding(output_size, hidden_size)\n        self.attn = nn.Linear(hidden_size * 2, max_length)\n        self.attn_combine = nn.Linear(hidden_size * 2, hidden_size)\n        self.dropout = nn.Dropout(dropout_p)\n        self.rnn = rnn_type(hidden_size, hidden_size, num_layers=num_layers,\n                            dropout=dropout_p)\n        self.out = nn.Linear(hidden_size, output_size)\n\n    def forward(self, input, hidden, encoder_outputs):\n        embedded = self.embedding(input).view(1, 1, -1)\n        embedded = self.dropout(embedded)\n        \n        hn = self._select_hidden_state(hidden)\n        \n        attn_weights = F.softmax(\n            self.attn(torch.cat((embedded[0], hn[0]), 1)), dim=1)\n        attn_applied = torch.bmm(attn_weights.unsqueeze(0), encoder_outputs.unsqueeze(0))\n\n        output = torch.cat((embedded[0], attn_applied[0]), 1)\n        output = self.attn_combine(output).unsqueeze(0)\n\n        output = F.relu(output)\n\n        output, hidden = self.rnn(output, hidden)\n\n        output = F.log_softmax(self.out(output[0]), dim=1)\n        \n        #Adding dropout to hidden layer \n        #if self.num_layers == 1: \n        #    hidden = self.dropout(hidden)\n          \n        #else: \n        #    hidden0 = self.dropout(hidden[0])\n        #    hidden1 = self.dropout(hidden[1])\n\n        #    hidden = (hidden0, hidden1)\n        \n        return output, hidden, attn_weights\n    \n    def _select_hidden_state(self, hidden):\n        if self.rnn_type != nn.LSTM:\n            return hidden\n        hn, cn = hidden\n        return hn",
   "execution_count": null,
   "outputs": []
  },
  {
   "cell_type": "code",
   "metadata": {
    "cell_id": "00020-fbd0eae1-9715-463f-9610-557c44a95977",
    "deepnote_to_be_reexecuted": false,
    "source_hash": "c4395019",
    "execution_start": 1639314493856,
    "execution_millis": 0,
    "deepnote_cell_type": "code"
   },
   "source": "class EncoderDecoderModel():\n    def __init__(self, input_size, output_size, hidden_size, num_layers, max_length,\n                 dropout=0, rnn_type=nn.LSTM, attn=False):\n        self.attn = attn\n\n        self.encoder = EncoderRNN(input_size, hidden_size, num_layers,\n                                  dropout, rnn_type).to(device)\n        if attn:\n            self.decoder = AttnDecoderRNN(hidden_size, output_size, max_length, num_layers,\n                                          dropout, rnn_type).to(device)\n        else:\n            self.decoder = DecoderRNN(hidden_size, output_size, num_layers,\n                                      dropout, rnn_type).to(device)\n                                      ",
   "execution_count": null,
   "outputs": []
  },
  {
   "cell_type": "markdown",
   "source": "# Training and loss plotting",
   "metadata": {
    "cell_id": "00021-9ff56393-d117-4f33-b7ca-0b83e9cda666",
    "deepnote_cell_type": "markdown"
   }
  },
  {
   "cell_type": "code",
   "metadata": {
    "cell_id": "00022-c6bb09b8-6270-40f1-b153-55f5e561c626",
    "deepnote_to_be_reexecuted": false,
    "source_hash": "108933d1",
    "execution_start": 1639314495240,
    "execution_millis": 0,
    "deepnote_cell_type": "code"
   },
   "source": "import time\nimport math\nimport random",
   "execution_count": null,
   "outputs": []
  },
  {
   "cell_type": "code",
   "metadata": {
    "cell_id": "00023-9f3f85af-ea51-4205-9bb0-e82c1c64e5b1",
    "deepnote_to_be_reexecuted": false,
    "source_hash": "68ed1067",
    "execution_start": 1639314496084,
    "execution_millis": 3,
    "deepnote_cell_type": "code"
   },
   "source": "def as_minutes(s):\n    m = math.floor(s / 60)\n    s -= m * 60\n    return '%dm %ds' % (m, s)\n\n\ndef time_since(since, percent):\n    now = time.time()\n    s = now - since\n    es = s / (percent)\n    rs = es - s\n    return '%s (- %s)' % (as_minutes(s), as_minutes(rs))",
   "execution_count": null,
   "outputs": []
  },
  {
   "cell_type": "code",
   "metadata": {
    "cell_id": "00024-b861b293-fc0a-4b14-9259-d00740760a22",
    "deepnote_to_be_reexecuted": false,
    "source_hash": "8a0832c5",
    "execution_start": 1639314496993,
    "execution_millis": 0,
    "deepnote_cell_type": "code"
   },
   "source": "import matplotlib.pyplot as plt\nimport matplotlib.ticker as ticker\nimport numpy as np\n\n\ndef plot_losses(losses):\n    plt.plot(losses)",
   "execution_count": null,
   "outputs": []
  },
  {
   "cell_type": "code",
   "metadata": {
    "cell_id": "00025-2bf3d975-24e6-4e58-b60f-ae6a0a7b0274",
    "deepnote_to_be_reexecuted": false,
    "source_hash": "b4a2c4ac",
    "execution_start": 1639314497465,
    "execution_millis": 7,
    "deepnote_cell_type": "code"
   },
   "source": "# used for both input and output sequences\n# maybe should be different, potential TODO\nMAX_LENGTH = 50\nteacher_forcing_ratio = 0.5",
   "execution_count": null,
   "outputs": []
  },
  {
   "cell_type": "code",
   "metadata": {
    "cell_id": "00026-9b9d93bc-757b-4d42-872d-f75e1bbf4328",
    "deepnote_to_be_reexecuted": false,
    "source_hash": "1fb63e40",
    "execution_start": 1639314498231,
    "execution_millis": 0,
    "deepnote_cell_type": "code"
   },
   "source": "def train(input_tensor, target_tensor, encoder, decoder, attn,\n          encoder_optimizer, decoder_optimizer, criterion, max_length,\n          clip=5):\n    encoder_hidden = encoder.init_hidden()\n\n    encoder_optimizer.zero_grad()\n    decoder_optimizer.zero_grad()\n\n    input_length = input_tensor.size(0)\n    target_length = target_tensor.size(0)\n    \n    # Used only for attention decoder\n    encoder_outputs = torch.zeros(max_length, encoder.hidden_size, device=device) if attn else None\n\n    loss = 0\n\n    for ei in range(input_length):\n        encoder_output, encoder_hidden = encoder(input_tensor[ei], encoder_hidden)\n        if attn:\n            encoder_outputs[ei] = encoder_output[0, 0]\n\n    decoder_input = torch.tensor([[SOS_token]], device=device)\n    decoder_hidden = encoder_hidden\n\n    use_teacher_forcing = True if random.random() < teacher_forcing_ratio else False\n\n    if use_teacher_forcing:\n        # Teacher forcing: Feed the target as the next input\n        for di in range(target_length):\n            decoder_output, decoder_hidden, decoder_attention = decoder(\n                decoder_input, decoder_hidden, encoder_outputs)\n            loss += criterion(decoder_output, target_tensor[di])\n            decoder_input = target_tensor[di]  # Teacher forcing\n\n    else:\n        # Without teacher forcing: use its own predictions as the next input\n        for di in range(target_length):\n            decoder_output, decoder_hidden, decoder_attention = decoder(\n                decoder_input, decoder_hidden, encoder_outputs)\n\n            topv, topi = decoder_output.topk(1)\n            decoder_input = topi.squeeze().detach()  # detach from history as input\n\n            loss += criterion(decoder_output, target_tensor[di])\n            if decoder_input.item() == EOS_token:\n                break\n\n    loss.backward()\n\n    torch.nn.utils.clip_grad_norm_(encoder.parameters(), clip)\n    torch.nn.utils.clip_grad_norm_(decoder.parameters(), clip)\n\n    encoder_optimizer.step()\n    decoder_optimizer.step()\n\n    return loss.item() / target_length",
   "execution_count": null,
   "outputs": []
  },
  {
   "cell_type": "code",
   "metadata": {
    "cell_id": "00027-9a884a17-e822-4345-8a59-f0f98d846113",
    "deepnote_to_be_reexecuted": false,
    "source_hash": "e4a48bfb",
    "execution_start": 1639314499312,
    "execution_millis": 10,
    "deepnote_cell_type": "code"
   },
   "source": "def train_iters(model, n_iters, print_every=1000, plot_every=100, learning_rate=0.001):\n    encoder = model.encoder\n    decoder = model.decoder\n    attn = model.attn\n\n    start = time.time()\n    losses = []\n    print_loss_total = 0  # Reset every print_every\n    plot_loss_total = 0  # Reset every plot_every\n\n    encoder_optimizer = optim.Adam(encoder.parameters(), lr=learning_rate)\n    decoder_optimizer = optim.Adam(decoder.parameters(), lr=learning_rate)\n    all_training_pairs = list(train_loader)\n    training_pairs = [random.choice(all_training_pairs) for i in range(n_iters)]\n    criterion = nn.NLLLoss()\n\n    for iter in range(1, n_iters + 1):\n        training_pair = training_pairs[iter - 1]\n        # have to index 0 probably due to internal batching of data loader (TODO: check)\n        input_tensor = training_pair[0][0]\n        target_tensor = training_pair[1][0]\n\n        loss = train(input_tensor, target_tensor, encoder, decoder, attn,\n                     encoder_optimizer, decoder_optimizer, criterion, MAX_LENGTH)\n        print_loss_total += loss\n        plot_loss_total += loss\n\n        if iter % print_every == 0:\n            print_loss_avg = print_loss_total / print_every\n            print_loss_total = 0\n            print('%s (%d %d%%) %.4f' % (time_since(start, iter / n_iters),\n                                         iter, iter / n_iters * 100, print_loss_avg))\n\n        if iter % plot_every == 0:\n            plot_loss_avg = plot_loss_total / plot_every\n            losses.append(plot_loss_avg)\n            plot_loss_total = 0\n\n    return losses",
   "execution_count": null,
   "outputs": []
  },
  {
   "cell_type": "markdown",
   "source": "# Evaluation",
   "metadata": {
    "cell_id": "00028-4bd76d75-0580-43c1-9dff-75e86e8e48d0",
    "deepnote_cell_type": "markdown"
   }
  },
  {
   "cell_type": "code",
   "metadata": {
    "cell_id": "00029-9a597e6f-ae8c-48fc-a745-fed1b8e15f9b",
    "deepnote_to_be_reexecuted": false,
    "source_hash": "c013ed48",
    "execution_start": 1639314500351,
    "execution_millis": 5,
    "deepnote_cell_type": "code"
   },
   "source": "def decoded(i2w, vec):\n    sent = []\n    for i in range(vec.size(0)):\n        if vec[i][0] == EOS_token:\n            break\n        sent.append(i2w[int(vec[i][0])])\n    return sent",
   "execution_count": null,
   "outputs": []
  },
  {
   "cell_type": "code",
   "metadata": {
    "cell_id": "00030-dfd7eeed-383f-4a4f-8717-f37219707b60",
    "deepnote_to_be_reexecuted": false,
    "source_hash": "fc78c0fb",
    "execution_start": 1639314501521,
    "execution_millis": 8,
    "deepnote_cell_type": "code"
   },
   "source": "def evaluate(model, sentence, max_length=MAX_LENGTH):\n    encoder = model.encoder\n    decoder = model.decoder\n    attn = model.attn\n    \n    with torch.no_grad():\n        input_tensor = sentence\n        input_length = input_tensor.size()[0]\n        encoder_hidden = encoder.init_hidden()\n        encoder_outputs = torch.zeros(max_length, encoder.hidden_size, device=device)\n\n        for ei in range(input_length):\n            encoder_output, encoder_hidden = encoder(input_tensor[ei], encoder_hidden)\n            if attn:\n                encoder_outputs[ei] += encoder_output[0, 0]\n\n        decoder_input = torch.tensor([[SOS_token]], device=device)\n        decoder_hidden = encoder_hidden\n        decoded_words = []\n        decoder_attentions = torch.zeros(max_length, max_length)\n\n        for di in range(max_length):\n            decoder_output, decoder_hidden, decoder_attention = decoder(\n                decoder_input, decoder_hidden, encoder_outputs)\n            if attn:\n                decoder_attentions[di] = decoder_attention.data\n\n            topv, topi = decoder_output.data.topk(1)\n            if topi.item() == EOS_token:\n                break\n\n            decoded_words.append(topi.item())\n            decoder_input = topi.squeeze().detach()\n\n        return decoded_words",
   "execution_count": null,
   "outputs": []
  },
  {
   "cell_type": "code",
   "metadata": {
    "cell_id": "00031-ec79f4c2-1a60-4dee-9cf6-b2bdfe6bf614",
    "deepnote_to_be_reexecuted": false,
    "source_hash": "ff2af0f3",
    "execution_start": 1639314502460,
    "execution_millis": 6,
    "deepnote_cell_type": "code"
   },
   "source": "def evaluate_randomly(loader, model, i2w_inp, i2w_out, n=10):\n    all_test_pairs = list(loader)\n    for i in range(n):\n        test_pair = random.choice(all_test_pairs)\n        input_sent = test_pair[0][0]\n        target_sent = test_pair[1][0]\n        print('>', ' '.join(decoded(i2w_inp, input_sent)))\n        print('=', ' '.join(decoded(i2w_out, target_sent)))\n        output_words = evaluate(model, input_sent)\n        output_sentence = ' '.join([i2w_out[idx] for idx in output_words])\n        print('<', output_sentence)\n        print()",
   "execution_count": null,
   "outputs": []
  },
  {
   "cell_type": "code",
   "metadata": {
    "cell_id": "00032-ef0c82f6-99f4-4136-8411-339499bae31c",
    "deepnote_to_be_reexecuted": false,
    "source_hash": "2c0f3606",
    "execution_start": 1639314503714,
    "execution_millis": 894,
    "deepnote_cell_type": "code"
   },
   "source": "from sklearn.metrics import accuracy_score\n\ndef test_acc(test_loader, model, i2w_out):\n    all_test_pairs = list(test_loader)\n    len(all_test_pairs)\n    target_sents=[]\n    output_sents=[]\n    for i in range(len(all_test_pairs)):\n        test_pair = all_test_pairs[i]\n        input_sent = test_pair[0][0]\n        target_sent = test_pair[1][0]\n        target_sent = ' '.join(decoded(i2w_out, target_sent))\n        target_sents.append(target_sent)\n        \n        output_words = evaluate(model, input_sent)\n        output_sentence = ' '.join([i2w_out[idx] for idx in output_words])\n        output_sents.append(output_sentence)\n    return accuracy_score(target_sents, output_sents)\n\ndef test_acc_act_seq_len(test_loader, model, i2w_out,seq_len):\n    all_test_pairs = list(test_loader)\n    target_sents=[]\n    output_sents=[]\n    for i in all_test_pairs:\n      if len(i[1][0])==seq_len+2:\n        input_sent = i[0][0]\n        target_sent = i[1][0]\n        target_sent = ' '.join(decoded(i2w_out, target_sent))\n        target_sents.append(target_sent)\n        output_words = evaluate(model, input_sent)\n        output_sentence = ' '.join([i2w_out[idx] for idx in output_words])\n        output_sents.append(output_sentence)\n    return accuracy_score(target_sents, output_sents)\n\ndef test_acc_com_len(test_loader, model, i2w_out,com_len):\n    all_test_pairs = list(test_loader)\n    target_sents=[]\n    output_sents=[]\n    for i in all_test_pairs:\n      if len(i[0][0])==com_len+2:\n        input_sent = i[0][0]\n        target_sent = i[1][0]\n        target_sent = ' '.join(decoded(i2w_out, target_sent))\n        target_sents.append(target_sent)\n        output_words = evaluate(model, input_sent)\n        output_sentence = ' '.join([i2w_out[idx] for idx in output_words])\n        output_sents.append(output_sentence)\n    return accuracy_score(target_sents, output_sents)",
   "execution_count": null,
   "outputs": []
  },
  {
   "cell_type": "markdown",
   "source": "# Experiments",
   "metadata": {
    "cell_id": "00033-7f464bf1-7550-4146-a652-a06c31f62afa",
    "deepnote_cell_type": "markdown"
   }
  },
  {
   "cell_type": "code",
   "metadata": {
    "cell_id": "00034-2bc7bc0f-3769-427e-b494-81fd88321c3d",
    "deepnote_to_be_reexecuted": false,
    "source_hash": "1d0ae887",
    "execution_start": 1639314509756,
    "execution_millis": 4,
    "deepnote_cell_type": "code"
   },
   "source": "# TODO Unfortunately the parameters for best_overall have to be recreated each time we train\n# for a different dataset. It's not a huge issue, but maybe you could figure out a nicer way",
   "execution_count": null,
   "outputs": []
  },
  {
   "cell_type": "markdown",
   "source": "## Experiment 1",
   "metadata": {
    "cell_id": "00035-ded65633-74a8-4dc3-8d3f-7b3703e0cac9",
    "deepnote_cell_type": "markdown"
   }
  },
  {
   "cell_type": "code",
   "metadata": {
    "deepnote_output_heights": [
     116
    ],
    "deepnote_to_be_reexecuted": false,
    "execution_millis": 1077,
    "execution_start": 1639225904579,
    "source_hash": "6a4b1fb7",
    "tags": [],
    "cell_id": "00036-f0902e6d-bc54-4388-994d-e5bb176cd036",
    "deepnote_cell_type": "code"
   },
   "source": "train_loader, test_loader, i2w_inp, i2w_out = create_loaders(\n    'simple_split/tasks_train_simple.txt',\n    'simple_split/tasks_test_simple.txt')",
   "execution_count": null,
   "outputs": []
  },
  {
   "cell_type": "code",
   "metadata": {
    "cell_id": "00037-5db64314-9b85-49c7-bd03-797b12bb28e9",
    "deepnote_cell_type": "code"
   },
   "source": "# next(iter(train_loader))",
   "execution_count": null,
   "outputs": []
  },
  {
   "cell_type": "code",
   "metadata": {
    "cell_id": "00038-70741446-a6bb-47c7-9c5e-b4d38275cc8d",
    "deepnote_cell_type": "code"
   },
   "source": "best_overall = EncoderDecoderModel(len(i2w_inp), len(i2w_out),\n                                   hidden_size=200, num_layers=2, max_length=MAX_LENGTH,\n                                   dropout=0.5, rnn_type=nn.LSTM, attn=False)",
   "execution_count": null,
   "outputs": []
  },
  {
   "cell_type": "code",
   "metadata": {
    "cell_id": "00039-2375d57c-5f12-443e-bf24-cdb6b903645d",
    "deepnote_cell_type": "code"
   },
   "source": "best_1 = EncoderDecoderModel(len(i2w_inp), len(i2w_out),\n                             hidden_size=200, num_layers=2, max_length=MAX_LENGTH,\n                             dropout=0, rnn_type=nn.LSTM, attn=False)",
   "execution_count": null,
   "outputs": []
  },
  {
   "cell_type": "code",
   "metadata": {
    "scrolled": true,
    "cell_id": "00040-c194e5b5-f821-450d-ac5c-b8bc6ec681a9",
    "deepnote_cell_type": "code"
   },
   "source": "# losses = train_iters(best_overall, 100000, print_every=2000, plot_every=200)\n# losses = train_iters(best_overall, 20000, print_every=400, plot_every=400)\n# losses = train_iters(best_overall, 10000, print_every=200, plot_every=20)\n losses = train_iters(best_overall, 1000, print_every=20, plot_every=2)",
   "execution_count": null,
   "outputs": [
    {
     "name": "stdout",
     "output_type": "stream",
     "text": "0m 12s (- 10m 36s) (400 2%) 0.1580\n0m 25s (- 10m 5s) (800 4%) 0.1417\n0m 37s (- 9m 50s) (1200 6%) 0.1641\n0m 49s (- 9m 33s) (1600 8%) 0.1154\n1m 2s (- 9m 19s) (2000 10%) 0.1281\n1m 14s (- 9m 4s) (2400 12%) 0.1366\n1m 26s (- 8m 51s) (2800 14%) 0.1418\n1m 38s (- 8m 37s) (3200 16%) 0.1053\n1m 50s (- 8m 24s) (3600 18%) 0.0881\n2m 2s (- 8m 11s) (4000 20%) 0.1005\n2m 15s (- 7m 59s) (4400 22%) 0.1369\n2m 27s (- 7m 47s) (4800 24%) 0.1196\n2m 39s (- 7m 34s) (5200 26%) 0.0782\n2m 52s (- 7m 22s) (5600 28%) 0.0735\n3m 4s (- 7m 10s) (6000 30%) 0.0773\n3m 16s (- 6m 57s) (6400 32%) 0.0708\n3m 28s (- 6m 44s) (6800 34%) 0.0739\n3m 40s (- 6m 32s) (7200 36%) 0.1150\n3m 52s (- 6m 20s) (7600 38%) 0.0610\n4m 5s (- 6m 7s) (8000 40%) 0.0837\n4m 17s (- 5m 55s) (8400 42%) 0.0749\n4m 29s (- 5m 42s) (8800 44%) 0.0726\n4m 41s (- 5m 30s) (9200 46%) 0.0936\n4m 53s (- 5m 18s) (9600 48%) 0.0525\n5m 6s (- 5m 6s) (10000 50%) 0.0960\n5m 18s (- 4m 53s) (10400 52%) 0.0552\n5m 30s (- 4m 41s) (10800 54%) 0.0686\n5m 42s (- 4m 29s) (11200 56%) 0.0495\n5m 55s (- 4m 17s) (11600 57%) 0.0613\n6m 7s (- 4m 5s) (12000 60%) 0.0753\n6m 19s (- 3m 52s) (12400 62%) 0.0812\n6m 32s (- 3m 40s) (12800 64%) 0.0565\n6m 44s (- 3m 28s) (13200 66%) 0.0490\n6m 56s (- 3m 16s) (13600 68%) 0.0805\n7m 8s (- 3m 3s) (14000 70%) 0.0597\n7m 20s (- 2m 51s) (14400 72%) 0.0675\n7m 33s (- 2m 39s) (14800 74%) 0.0478\n7m 46s (- 2m 27s) (15200 76%) 0.0435\n8m 0s (- 2m 15s) (15600 78%) 0.0661\n8m 15s (- 2m 3s) (16000 80%) 0.0449\n8m 29s (- 1m 51s) (16400 82%) 0.0499\n8m 44s (- 1m 39s) (16800 84%) 0.0615\n8m 57s (- 1m 27s) (17200 86%) 0.0788\n9m 12s (- 1m 15s) (17600 88%) 0.0437\n9m 26s (- 1m 2s) (18000 90%) 0.0643\n9m 41s (- 0m 50s) (18400 92%) 0.0473\n9m 55s (- 0m 38s) (18800 94%) 0.0281\n10m 10s (- 0m 25s) (19200 96%) 0.0376\n10m 24s (- 0m 12s) (19600 98%) 0.0396\n10m 39s (- 0m 0s) (20000 100%) 0.0488\n"
    }
   ]
  },
  {
   "cell_type": "code",
   "metadata": {
    "cell_id": "00041-180d544a-0139-40d5-9def-8b2de1c73413",
    "deepnote_output_heights": [
     250
    ],
    "deepnote_cell_type": "code"
   },
   "source": "plot_losses(losses);",
   "execution_count": null,
   "outputs": [
    {
     "data": {
      "image/png": "[encoded data removed]",
      "text/plain": "<Figure size 432x288 with 1 Axes>"
     },
     "metadata": {
      "needs_background": "light",
      "image/png": {
       "width": 378,
       "height": 248
      }
     },
     "output_type": "display_data"
    }
   ]
  },
  {
   "cell_type": "code",
   "metadata": {
    "scrolled": false,
    "cell_id": "00042-02fd53d1-fa76-40af-a8fc-68a124d250f4",
    "deepnote_cell_type": "code"
   },
   "source": "evaluate_randomly(test_loader, best_overall, i2w_inp, i2w_out, n=3)",
   "execution_count": null,
   "outputs": [
    {
     "name": "stdout",
     "output_type": "stream",
     "text": "> walk after walk opposite right\n= I_TURN_RIGHT I_TURN_RIGHT I_WALK I_WALK\n< I_TURN_RIGHT I_TURN_RIGHT I_WALK I_WALK\n\n> turn opposite left twice and run thrice\n= I_TURN_LEFT I_TURN_LEFT I_TURN_LEFT I_TURN_LEFT I_RUN I_RUN I_RUN\n< I_TURN_LEFT I_TURN_LEFT I_TURN_LEFT I_TURN_LEFT I_RUN I_RUN I_RUN\n\n> turn right and turn left twice\n= I_TURN_RIGHT I_TURN_LEFT I_TURN_LEFT\n< I_TURN_RIGHT I_TURN_LEFT I_TURN_LEFT\n\n"
    }
   ]
  },
  {
   "cell_type": "code",
   "metadata": {
    "cell_id": "00043-c2dcb641-63b7-4085-9756-8dafc3617555",
    "deepnote_output_heights": [
     21
    ],
    "deepnote_cell_type": "code"
   },
   "source": "test_acc(test_loader, best_overall, i2w_out)",
   "execution_count": null,
   "outputs": [
    {
     "data": {
      "text/plain": "0.8835485413677666"
     },
     "execution_count": 51,
     "metadata": {},
     "output_type": "execute_result"
    }
   ]
  },
  {
   "cell_type": "markdown",
   "source": "## Experiment 2",
   "metadata": {
    "cell_id": "00044-3bd647e4-904e-4139-a3a9-83da5a6dd604",
    "deepnote_cell_type": "markdown"
   }
  },
  {
   "cell_type": "code",
   "metadata": {
    "tags": [],
    "cell_id": "00045-3a6355eb-74f1-44ae-902c-9c1adb012730",
    "deepnote_cell_type": "code"
   },
   "source": "train_loader, test_loader, i2w_inp, i2w_out = create_loaders('length_split/tasks_train_length.txt',\n                                                             'length_split/tasks_test_length.txt',\n                                                            batch_size=16)",
   "execution_count": null,
   "outputs": []
  },
  {
   "cell_type": "code",
   "metadata": {
    "cell_id": "00045-4fec2c53-c5aa-4141-915c-27be66e2b3d9",
    "deepnote_cell_type": "code"
   },
   "source": "best_2 = EncoderDecoderModel(len(i2w_inp), len(i2w_out),\n                              hidden_size=50, num_layers=1, max_length=MAX_LENGTH,\n                              dropout=0.5, rnn_type=nn.GRU, attn=True)",
   "execution_count": null,
   "outputs": []
  },
  {
   "cell_type": "code",
   "metadata": {
    "tags": [],
    "cell_id": "00047-1345ed8a-a294-4d28-95bc-9b356ae4e68d",
    "deepnote_cell_type": "code"
   },
   "source": "losses = train_iters(best_2, 100000, print_every=4000, plot_every=4000)",
   "execution_count": null,
   "outputs": []
  },
  {
   "cell_type": "code",
   "metadata": {
    "tags": [],
    "cell_id": "00048-c2a1f188-9716-4664-87f1-4caa5be8addf",
    "deepnote_cell_type": "code"
   },
   "source": "plot_losses(losses)",
   "execution_count": null,
   "outputs": []
  },
  {
   "cell_type": "code",
   "metadata": {
    "tags": [],
    "cell_id": "00049-9abf5adf-6333-4f11-9033-a8f00fcfd929",
    "deepnote_cell_type": "code"
   },
   "source": "evaluate_randomly(test_loader, best_2, i2w_inp, i2w_out, n=10)",
   "execution_count": null,
   "outputs": []
  },
  {
   "cell_type": "code",
   "metadata": {
    "tags": [],
    "cell_id": "00050-08426173-acab-498f-a6ab-edf71d1a46ae",
    "deepnote_cell_type": "code"
   },
   "source": "test_acc(test_loader, best_2, i2w_out)",
   "execution_count": null,
   "outputs": []
  },
  {
   "cell_type": "code",
   "metadata": {
    "tags": [],
    "cell_id": "00051-c46cd8a0-abfb-436b-ab80-0dc8915d6204",
    "deepnote_cell_type": "code"
   },
   "source": "#Overall Best",
   "execution_count": null,
   "outputs": []
  },
  {
   "cell_type": "code",
   "metadata": {
    "tags": [],
    "cell_id": "00052-257e4fe9-d42e-4b1d-8b36-d563a9f93fe9",
    "deepnote_cell_type": "code"
   },
   "source": "best_2_overall = EncoderDecoderModel(len(i2w_inp), len(i2w_out),\n                            hidden_size=50, num_layers=1, max_length=MAX_LENGTH,\n                            dropout=0.5, rnn_type=nn.GRU, attn=True)",
   "execution_count": null,
   "outputs": []
  },
  {
   "cell_type": "code",
   "metadata": {
    "tags": [],
    "cell_id": "00052-950f2cc3-ea5a-44ce-b1e4-39bc43102dff",
    "deepnote_cell_type": "code"
   },
   "source": "losses = train_iters(best_2_overall, 100000, print_every=4000, plot_every=4000)\nplot_losses(losses)\n",
   "execution_count": null,
   "outputs": []
  },
  {
   "cell_type": "code",
   "metadata": {
    "tags": [],
    "cell_id": "00052-76f6060d-9498-4c9f-a76d-c97a209edf00",
    "deepnote_cell_type": "code"
   },
   "source": "evaluate_randomly(test_loader, best_2_overall, i2w_inp, i2w_out, n=10)",
   "execution_count": null,
   "outputs": []
  },
  {
   "cell_type": "code",
   "metadata": {
    "tags": [],
    "cell_id": "00055-0d71d357-48b3-4821-a031-d70e685019bb",
    "deepnote_cell_type": "code"
   },
   "source": "test_acc(test_loader, best_2_overall, i2w_out)\n",
   "execution_count": null,
   "outputs": []
  },
  {
   "cell_type": "code",
   "metadata": {
    "tags": [],
    "cell_id": "00056-98c618f9-c106-4d72-8e15-cfa5086bcc28",
    "deepnote_cell_type": "code"
   },
   "source": "PATH = \"/content/drive/My Drive/Advanced NLP/Final/best_2_overall_100000_1.pth\"      # .pth or .pt is the conventional file extension for saving PyTorch models\ntorch.save(best_2_overall, PATH)\n\nmodel_2_overall = torch.load(PATH)",
   "execution_count": null,
   "outputs": []
  },
  {
   "cell_type": "code",
   "metadata": {
    "tags": [],
    "cell_id": "00056-8256fcb9-62d1-4b2a-b3c5-18a4aacf8d1f",
    "deepnote_cell_type": "code"
   },
   "source": "act_seq_len=[24,25,26,27,28,30,32,33,36,40,48]\nresults_2_overall=[]\nfor i in act_seq_len:\n  results_2_overall.append( test_acc_act_seq_len(test_loader, model_2_overall, i2w_out,i))\nresults_2_overall\n",
   "execution_count": null,
   "outputs": []
  },
  {
   "cell_type": "code",
   "metadata": {
    "tags": [],
    "cell_id": "00058-445f1421-8f1d-4452-ab64-129998f674ee",
    "deepnote_cell_type": "code"
   },
   "source": "import matplotlib.pyplot as plt\nfig = plt.figure()\nax = fig.add_axes([0,0,1,1])\nax.bar(act_seq_len,results_2_overall)\nplt.show()\n",
   "execution_count": null,
   "outputs": []
  },
  {
   "cell_type": "code",
   "metadata": {
    "tags": [],
    "cell_id": "00059-a247d5fb-f635-4017-84c4-d05068ff94a3",
    "deepnote_cell_type": "code"
   },
   "source": "com_len=[4,6,7,8,9]\nresults_2_overall_2=[]\nfor i in com_len:\n  results_2_overall_2.append( test_acc_com_len(test_loader, model_2_overall, i2w_out,i))\nresults_2_overall_2",
   "execution_count": null,
   "outputs": []
  },
  {
   "cell_type": "code",
   "metadata": {
    "tags": [],
    "cell_id": "00052-e80d6590-ca3f-487c-8be2-2260846d93fe",
    "deepnote_cell_type": "code"
   },
   "source": "fig = plt.figure()\nax = fig.add_axes([0,0,1,1])\nax.bar(com_len,results_2_overall_2)\nplt.show()",
   "execution_count": null,
   "outputs": []
  },
  {
   "cell_type": "code",
   "metadata": {
    "cell_id": "00047-f268f9c7-f40d-4d85-a1ce-8980d42035f6",
    "deepnote_cell_type": "code"
   },
   "source": "## TODO load new data, retrain the overall best model, the best one for this, accuracies, etc",
   "execution_count": null,
   "outputs": []
  },
  {
   "cell_type": "markdown",
   "source": "TODO",
   "metadata": {
    "cell_id": "00048-07dbe3b9-ee97-401a-a736-6a26e427c8ef",
    "deepnote_cell_type": "markdown"
   }
  },
  {
   "cell_type": "markdown",
   "source": "## Experiment 3.1 (turn-left)",
   "metadata": {
    "cell_id": "00049-5ddff004-8bef-4b95-aa5c-db01b76b9945",
    "deepnote_cell_type": "markdown"
   }
  },
  {
   "cell_type": "code",
   "metadata": {
    "tags": [],
    "cell_id": "00051-c5036a6d-863b-42f7-ae76-614eceb1539d",
    "deepnote_to_be_reexecuted": false,
    "source_hash": "62fde5d9",
    "execution_start": 1639316215352,
    "execution_millis": 823,
    "deepnote_cell_type": "code"
   },
   "source": "train_loader, test_loader, i2w_inp, i2w_out = create_loaders(\n    'add_prim_split/tasks_train_addprim_turn_left.txt',\n    'add_prim_split/tasks_test_addprim_turn_left.txt')",
   "execution_count": null,
   "outputs": []
  },
  {
   "cell_type": "code",
   "metadata": {
    "cell_id": "00050-70f17f2e-7fdf-4c0b-85ac-5812021db0f6",
    "deepnote_to_be_reexecuted": false,
    "source_hash": "ed9a01",
    "execution_start": 1639316221060,
    "execution_millis": 11,
    "deepnote_cell_type": "code"
   },
   "source": "best_3 = EncoderDecoderModel(len(i2w_inp), len(i2w_out),\n                              hidden_size=100, num_layers=1, max_length=MAX_LENGTH,\n                              dropout=0.1, rnn_type=nn.GRU, attn=True)",
   "execution_count": null,
   "outputs": [
    {
     "name": "stderr",
     "text": "/shared-libs/python3.7/py/lib/python3.7/site-packages/torch/nn/modules/rnn.py:65: UserWarning: dropout option adds dropout after all but last recurrent layer, so non-zero dropout expects num_layers greater than 1, but got dropout=0.1 and num_layers=1\n  \"num_layers={}\".format(dropout, num_layers))\n",
     "output_type": "stream"
    }
   ]
  },
  {
   "cell_type": "code",
   "metadata": {
    "tags": [],
    "cell_id": "00053-fc5cf8b3-0dce-4df5-9350-f4680ee7ba53",
    "deepnote_to_be_reexecuted": false,
    "source_hash": "8a0111bf",
    "execution_start": 1639316228025,
    "execution_millis": 622227,
    "deepnote_cell_type": "code"
   },
   "source": "losses_3 = train_iters(best_3, 20000, print_every=400, plot_every=400)\n\n#losses_3 = train_iters(best_3, 100000, print_every=2000, plot_every=200)",
   "execution_count": null,
   "outputs": [
    {
     "name": "stdout",
     "text": "0m 15s (- 12m 27s) (400 2%) 1.3254\n0m 27s (- 10m 54s) (800 4%) 0.9646\n0m 39s (- 10m 16s) (1200 6%) 0.8739\n0m 51s (- 9m 46s) (1600 8%) 0.7533\n1m 2s (- 9m 24s) (2000 10%) 0.7422\n1m 14s (- 9m 8s) (2400 12%) 0.6766\n1m 26s (- 8m 52s) (2800 14%) 0.6414\n1m 38s (- 8m 39s) (3200 16%) 0.5786\n1m 51s (- 8m 26s) (3600 18%) 0.5054\n2m 3s (- 8m 12s) (4000 20%) 0.4854\n2m 15s (- 8m 0s) (4400 22%) 0.4362\n2m 26s (- 7m 45s) (4800 24%) 0.4476\n2m 39s (- 7m 32s) (5200 26%) 0.4340\n2m 51s (- 7m 20s) (5600 28%) 0.3583\n3m 3s (- 7m 7s) (6000 30%) 0.3895\n3m 15s (- 6m 54s) (6400 32%) 0.3295\n3m 27s (- 6m 42s) (6800 34%) 0.3057\n3m 39s (- 6m 30s) (7200 36%) 0.3119\n3m 52s (- 6m 19s) (7600 38%) 0.3259\n4m 4s (- 6m 6s) (8000 40%) 0.2938\n4m 16s (- 5m 54s) (8400 42%) 0.2634\n4m 28s (- 5m 41s) (8800 44%) 0.2487\n4m 40s (- 5m 29s) (9200 46%) 0.2361\n4m 53s (- 5m 17s) (9600 48%) 0.2597\n5m 5s (- 5m 5s) (10000 50%) 0.2433\n5m 18s (- 4m 54s) (10400 52%) 0.2766\n5m 30s (- 4m 41s) (10800 54%) 0.2248\n5m 42s (- 4m 28s) (11200 56%) 0.2329\n5m 54s (- 4m 16s) (11600 57%) 0.1888\n6m 6s (- 4m 4s) (12000 60%) 0.2092\n6m 18s (- 3m 52s) (12400 62%) 0.2037\n6m 30s (- 3m 39s) (12800 64%) 0.1867\n6m 42s (- 3m 27s) (13200 66%) 0.1906\n6m 53s (- 3m 14s) (13600 68%) 0.2015\n7m 5s (- 3m 2s) (14000 70%) 0.1753\n7m 18s (- 2m 50s) (14400 72%) 0.1463\n7m 30s (- 2m 38s) (14800 74%) 0.1791\n7m 42s (- 2m 26s) (15200 76%) 0.1501\n7m 55s (- 2m 14s) (15600 78%) 0.1737\n8m 8s (- 2m 2s) (16000 80%) 0.1725\n8m 21s (- 1m 50s) (16400 82%) 0.1667\n8m 34s (- 1m 37s) (16800 84%) 0.1508\n8m 46s (- 1m 25s) (17200 86%) 0.1594\n8m 57s (- 1m 13s) (17600 88%) 0.1642\n9m 9s (- 1m 1s) (18000 90%) 0.1489\n9m 22s (- 0m 48s) (18400 92%) 0.1090\n9m 34s (- 0m 36s) (18800 94%) 0.1257\n9m 51s (- 0m 24s) (19200 96%) 0.1074\n10m 10s (- 0m 12s) (19600 98%) 0.1569\n10m 22s (- 0m 0s) (20000 100%) 0.1028\n",
     "output_type": "stream"
    }
   ]
  },
  {
   "cell_type": "code",
   "metadata": {
    "tags": [],
    "cell_id": "00054-c7b16a10-b116-4046-9a45-833d89b2b2cd",
    "deepnote_to_be_reexecuted": false,
    "source_hash": "e7c72878",
    "execution_start": 1639316850243,
    "execution_millis": 197,
    "deepnote_output_heights": [
     250
    ],
    "deepnote_cell_type": "code"
   },
   "source": "plot_losses(losses_3)\n#plt.savefig('Figures/plot_losses_best3_leftturn.png');",
   "execution_count": null,
   "outputs": [
    {
     "data": {
      "text/plain": "<Figure size 432x288 with 1 Axes>",
      "image/png": "[encoded data removed]"
     },
     "metadata": {
      "needs_background": "light",
      "image/png": {
       "width": 372,
       "height": 248
      }
     },
     "output_type": "display_data"
    }
   ]
  },
  {
   "cell_type": "code",
   "metadata": {
    "tags": [],
    "cell_id": "00055-09df05cc-3b4b-48ee-b8ad-f8a43b677efc",
    "deepnote_to_be_reexecuted": false,
    "source_hash": "4504f27b",
    "execution_start": 1639316976363,
    "execution_millis": 141,
    "deepnote_cell_type": "code"
   },
   "source": "evaluate_randomly(test_loader, best_3, i2w_inp, i2w_out, n=3)",
   "execution_count": null,
   "outputs": [
    {
     "name": "stdout",
     "text": "> <SOS> look around right twice and turn left twice\n= <SOS> I_TURN_RIGHT I_LOOK I_TURN_RIGHT I_LOOK I_TURN_RIGHT I_LOOK I_TURN_RIGHT I_LOOK I_TURN_RIGHT I_LOOK I_TURN_RIGHT I_LOOK I_TURN_RIGHT I_LOOK I_TURN_RIGHT I_LOOK I_TURN_LEFT I_TURN_LEFT\n< <SOS> I_TURN_RIGHT I_LOOK I_TURN_RIGHT I_LOOK I_TURN_RIGHT I_LOOK I_TURN_RIGHT I_LOOK I_TURN_RIGHT I_LOOK I_TURN_RIGHT I_LOOK I_TURN_RIGHT I_LOOK I_TURN_LEFT I_TURN_LEFT I_TURN_LEFT I_TURN_LEFT\n\n> <SOS> turn left after turn opposite left\n= <SOS> I_TURN_LEFT I_TURN_LEFT I_TURN_LEFT\n< <SOS> I_TURN_LEFT I_TURN_LEFT I_TURN_LEFT\n\n> <SOS> walk opposite left thrice and turn left\n= <SOS> I_TURN_LEFT I_TURN_LEFT I_WALK I_TURN_LEFT I_TURN_LEFT I_WALK I_TURN_LEFT I_TURN_LEFT I_WALK I_TURN_LEFT\n< <SOS> I_TURN_LEFT I_TURN_LEFT I_WALK I_TURN_LEFT I_TURN_LEFT I_WALK I_TURN_LEFT I_TURN_LEFT I_WALK I_TURN_LEFT I_TURN_LEFT\n\n",
     "output_type": "stream"
    }
   ]
  },
  {
   "cell_type": "code",
   "metadata": {
    "tags": [],
    "cell_id": "00056-30be0adb-3ad9-485f-8ffa-6c32dbc30358",
    "deepnote_to_be_reexecuted": false,
    "source_hash": "53e0ae17",
    "execution_start": 1639316976924,
    "execution_millis": 9922,
    "deepnote_output_heights": [
     21
    ],
    "deepnote_cell_type": "code"
   },
   "source": "test_acc(test_loader, best_3, i2w_out)",
   "execution_count": null,
   "outputs": [
    {
     "output_type": "execute_result",
     "execution_count": 48,
     "data": {
      "text/plain": "0.37748344370860926"
     },
     "metadata": {}
    }
   ]
  },
  {
   "cell_type": "code",
   "metadata": {
    "tags": [],
    "cell_id": "00057-a243d6f4-bca6-409b-bc40-7c06e7dc2e6a",
    "deepnote_to_be_reexecuted": false,
    "source_hash": "84791c56",
    "execution_start": 1639316859483,
    "execution_millis": 0,
    "deepnote_cell_type": "code"
   },
   "source": "#torch.save(best_3, 'Trained models/best_3_leftturn.pth')\n#torch.save(losses_3, 'Trained models/losses_3_leftturn.pth')",
   "execution_count": null,
   "outputs": []
  },
  {
   "cell_type": "markdown",
   "source": "**Best overall**",
   "metadata": {
    "tags": [],
    "cell_id": "00058-c71e0465-a19f-4e2a-b47e-5c0a65061748",
    "deepnote_cell_type": "markdown"
   }
  },
  {
   "cell_type": "code",
   "metadata": {
    "tags": [],
    "cell_id": "00059-2dbddfac-1c90-4f4a-afa5-4aa9921823e9",
    "deepnote_cell_type": "code"
   },
   "source": "best_overall_31 = EncoderDecoderModel(len(i2w_inp), len(i2w_out),\n                                   hidden_size=200, num_layers=2, max_length=MAX_LENGTH,\n                                   dropout=0.5, rnn_type=nn.LSTM, attn=False)",
   "execution_count": null,
   "outputs": []
  },
  {
   "cell_type": "code",
   "metadata": {
    "tags": [],
    "cell_id": "00060-571afabd-893c-48a6-aa37-cbed8fb703a1",
    "deepnote_cell_type": "code"
   },
   "source": "losses_31_bestoverall = train_iters(best_overall_31, 100000, print_every=2000, plot_every=200)\n",
   "execution_count": null,
   "outputs": []
  },
  {
   "cell_type": "code",
   "metadata": {
    "tags": [],
    "cell_id": "00061-6bc1f813-e503-4e4a-b985-f34e785768d0",
    "deepnote_cell_type": "code"
   },
   "source": "plot_losses(losses_31_bestoverall);\nplt.savefig('Figures/plot_losses_bestoverall_leftturn.png')",
   "execution_count": null,
   "outputs": []
  },
  {
   "cell_type": "code",
   "metadata": {
    "tags": [],
    "cell_id": "00062-eb027e92-fcb0-4ae4-bccd-7e7cd9a674e9",
    "deepnote_cell_type": "code"
   },
   "source": "evaluate_randomly(test_loader, best_overall_31, i2w_inp, i2w_out, n=3)",
   "execution_count": null,
   "outputs": []
  },
  {
   "cell_type": "code",
   "metadata": {
    "tags": [],
    "cell_id": "00063-a03cebe9-994e-4070-a221-4e32de5c039a",
    "deepnote_cell_type": "code"
   },
   "source": "test_acc(test_loader, best_overall_31, i2w_out)",
   "execution_count": null,
   "outputs": []
  },
  {
   "cell_type": "code",
   "metadata": {
    "tags": [],
    "cell_id": "00064-ed618420-2f6a-42bb-a6db-13c82d95cc86",
    "deepnote_cell_type": "code"
   },
   "source": "torch.save(best_overall_31, 'Trained models/bestoverall_leftturn.pth')\ntorch.save(losses_31_bestoverall, 'Trained models/losses_bestoverall_leftturn.pth')",
   "execution_count": null,
   "outputs": []
  },
  {
   "cell_type": "markdown",
   "source": "## Experiment 3.2 (jump)",
   "metadata": {
    "cell_id": "00052-362f8592-a65a-4604-b7f3-41fe2d78b859",
    "deepnote_cell_type": "markdown"
   }
  },
  {
   "cell_type": "code",
   "metadata": {
    "tags": [],
    "cell_id": "00059-116b5af2-70c7-4fb1-b8c0-05b404f87a50",
    "deepnote_to_be_reexecuted": false,
    "source_hash": "e6643892",
    "execution_start": 1639314525696,
    "execution_millis": 521,
    "deepnote_cell_type": "code"
   },
   "source": "train_loader, test_loader, i2w_inp, i2w_out = create_loaders(\n    'add_prim_split/tasks_train_addprim_jump.txt',\n    'add_prim_split/tasks_test_addprim_jump.txt')",
   "execution_count": null,
   "outputs": []
  },
  {
   "cell_type": "code",
   "metadata": {
    "cell_id": "00055-3d22e500-0f81-4153-a1de-e01f0ab636b1",
    "deepnote_to_be_reexecuted": false,
    "source_hash": "f5ef6fa",
    "execution_start": 1639307521688,
    "execution_millis": 61,
    "deepnote_cell_type": "code"
   },
   "source": "best_3_jump = EncoderDecoderModel(len(i2w_inp), len(i2w_out),\n                                  hidden_size=100, num_layers=1, max_length=MAX_LENGTH,\n                                  dropout=0.1, rnn_type=nn.LSTM, attn=True)",
   "execution_count": null,
   "outputs": [
    {
     "name": "stderr",
     "text": "/shared-libs/python3.7/py/lib/python3.7/site-packages/torch/nn/modules/rnn.py:65: UserWarning: dropout option adds dropout after all but last recurrent layer, so non-zero dropout expects num_layers greater than 1, but got dropout=0.1 and num_layers=1\n  \"num_layers={}\".format(dropout, num_layers))\n",
     "output_type": "stream"
    }
   ]
  },
  {
   "cell_type": "code",
   "metadata": {
    "tags": [],
    "cell_id": "00062-38bb8deb-a7a5-47e6-88a6-1ee1b5a20e21",
    "deepnote_to_be_reexecuted": false,
    "source_hash": "71f2fa82",
    "execution_start": 1639307528332,
    "execution_millis": 689866,
    "deepnote_cell_type": "code"
   },
   "source": "losses_3_jump = train_iters(best_3_jump, 20000, print_every=400, plot_every=400)\n\n#losses_3_jump = train_iters(best_3_jump, 100000, print_every=2000, plot_every=200)",
   "execution_count": null,
   "outputs": [
    {
     "name": "stdout",
     "text": "0m 37s (- 30m 18s) (400 2%) 1.2917\n1m 2s (- 25m 0s) (800 4%) 0.9001\n1m 18s (- 20m 28s) (1200 6%) 0.8177\n1m 31s (- 17m 27s) (1600 8%) 0.7681\n1m 43s (- 15m 28s) (2000 10%) 0.6668\n2m 2s (- 14m 56s) (2400 12%) 0.6167\n2m 18s (- 14m 9s) (2800 14%) 0.5368\n2m 30s (- 13m 11s) (3200 16%) 0.4998\n2m 42s (- 12m 22s) (3600 18%) 0.4765\n2m 55s (- 11m 40s) (4000 20%) 0.4520\n3m 9s (- 11m 12s) (4400 22%) 0.4075\n3m 24s (- 10m 49s) (4800 24%) 0.4398\n3m 37s (- 10m 17s) (5200 26%) 0.3977\n3m 50s (- 9m 53s) (5600 28%) 0.4276\n4m 2s (- 9m 26s) (6000 30%) 0.3545\n4m 15s (- 9m 2s) (6400 32%) 0.3451\n4m 28s (- 8m 40s) (6800 34%) 0.3039\n4m 40s (- 8m 19s) (7200 36%) 0.3424\n4m 52s (- 7m 57s) (7600 38%) 0.2872\n5m 5s (- 7m 38s) (8000 40%) 0.3248\n5m 17s (- 7m 18s) (8400 42%) 0.2815\n5m 30s (- 7m 1s) (8800 44%) 0.2915\n5m 43s (- 6m 42s) (9200 46%) 0.2345\n5m 55s (- 6m 25s) (9600 48%) 0.2905\n6m 8s (- 6m 8s) (10000 50%) 0.2634\n6m 21s (- 5m 52s) (10400 52%) 0.2510\n6m 33s (- 5m 35s) (10800 54%) 0.2414\n6m 45s (- 5m 18s) (11200 56%) 0.2573\n6m 58s (- 5m 3s) (11600 57%) 0.2417\n7m 12s (- 4m 48s) (12000 60%) 0.2122\n7m 25s (- 4m 32s) (12400 62%) 0.1892\n7m 37s (- 4m 17s) (12800 64%) 0.1888\n7m 50s (- 4m 2s) (13200 66%) 0.1906\n8m 2s (- 3m 47s) (13600 68%) 0.1794\n8m 14s (- 3m 32s) (14000 70%) 0.1702\n8m 27s (- 3m 17s) (14400 72%) 0.1811\n8m 39s (- 3m 2s) (14800 74%) 0.1877\n8m 51s (- 2m 47s) (15200 76%) 0.1692\n9m 4s (- 2m 33s) (15600 78%) 0.1705\n9m 16s (- 2m 19s) (16000 80%) 0.1739\n9m 29s (- 2m 4s) (16400 82%) 0.1730\n9m 41s (- 1m 50s) (16800 84%) 0.1256\n9m 56s (- 1m 37s) (17200 86%) 0.1383\n10m 10s (- 1m 23s) (17600 88%) 0.1381\n10m 23s (- 1m 9s) (18000 90%) 0.0958\n10m 36s (- 0m 55s) (18400 92%) 0.1145\n10m 51s (- 0m 41s) (18800 94%) 0.1195\n11m 4s (- 0m 27s) (19200 96%) 0.1166\n11m 17s (- 0m 13s) (19600 98%) 0.1160\n11m 29s (- 0m 0s) (20000 100%) 0.1184\n",
     "output_type": "stream"
    }
   ]
  },
  {
   "cell_type": "code",
   "metadata": {
    "tags": [],
    "cell_id": "00063-1ae75681-d04a-404a-a454-08efcca5ab44",
    "deepnote_to_be_reexecuted": false,
    "source_hash": "10e6904",
    "execution_start": 1639308218232,
    "execution_millis": 487,
    "deepnote_output_heights": [
     250
    ],
    "deepnote_cell_type": "code"
   },
   "source": "plot_losses(losses_3_jump)\n#plt.savefig('Figures/plot_losses_best3_jump.png');",
   "execution_count": null,
   "outputs": [
    {
     "data": {
      "text/plain": "<Figure size 432x288 with 1 Axes>",
      "image/png": "[encoded data removed]"
     },
     "metadata": {
      "needs_background": "light",
      "image/png": {
       "width": 372,
       "height": 248
      }
     },
     "output_type": "display_data"
    }
   ]
  },
  {
   "cell_type": "code",
   "metadata": {
    "tags": [],
    "cell_id": "00064-fe923543-7ed1-49cb-88d9-17535ee4ccb0",
    "deepnote_to_be_reexecuted": false,
    "source_hash": "8895aa77",
    "execution_start": 1639308218730,
    "execution_millis": 818,
    "deepnote_cell_type": "code"
   },
   "source": "evaluate_randomly(test_loader, best_3_jump, i2w_inp, i2w_out, n=3)",
   "execution_count": null,
   "outputs": [
    {
     "name": "stdout",
     "text": "> <SOS> look around left after jump around left\n= <SOS> I_TURN_LEFT I_JUMP I_TURN_LEFT I_JUMP I_TURN_LEFT I_JUMP I_TURN_LEFT I_JUMP I_TURN_LEFT I_LOOK I_TURN_LEFT I_LOOK I_TURN_LEFT I_LOOK I_TURN_LEFT I_LOOK\n< <SOS> I_TURN_LEFT I_TURN_LEFT I_TURN_LEFT I_TURN_LEFT I_TURN_LEFT I_TURN_LEFT I_LOOK I_TURN_LEFT I_LOOK I_TURN_LEFT I_LOOK I_TURN_LEFT I_LOOK I_TURN_LEFT I_LOOK I_TURN_LEFT I_LOOK I_TURN_LEFT I_LOOK\n\n> <SOS> jump around left twice after walk opposite right thrice\n= <SOS> I_TURN_RIGHT I_TURN_RIGHT I_WALK I_TURN_RIGHT I_TURN_RIGHT I_WALK I_TURN_RIGHT I_TURN_RIGHT I_WALK I_TURN_LEFT I_JUMP I_TURN_LEFT I_JUMP I_TURN_LEFT I_JUMP I_TURN_LEFT I_JUMP I_TURN_LEFT I_JUMP I_TURN_LEFT I_JUMP I_TURN_LEFT I_JUMP I_TURN_LEFT I_JUMP\n< <SOS> I_TURN_RIGHT I_TURN_RIGHT I_WALK I_TURN_RIGHT I_TURN_RIGHT I_WALK I_TURN_RIGHT I_TURN_RIGHT I_WALK I_TURN_LEFT I_WALK I_TURN_LEFT I_WALK I_TURN_LEFT I_WALK I_TURN_LEFT I_WALK I_TURN_LEFT I_WALK I_TURN_LEFT I_WALK I_TURN_LEFT I_TURN_LEFT I_WALK\n\n> <SOS> walk opposite right thrice and jump right\n= <SOS> I_TURN_RIGHT I_TURN_RIGHT I_WALK I_TURN_RIGHT I_TURN_RIGHT I_WALK I_TURN_RIGHT I_TURN_RIGHT I_WALK I_TURN_RIGHT I_JUMP\n< <SOS> I_TURN_RIGHT I_TURN_RIGHT I_WALK I_TURN_RIGHT I_TURN_RIGHT I_WALK I_TURN_RIGHT I_TURN_RIGHT I_WALK I_TURN_RIGHT I_TURN_RIGHT I_WALK\n\n",
     "output_type": "stream"
    }
   ]
  },
  {
   "cell_type": "code",
   "metadata": {
    "tags": [],
    "cell_id": "00065-f72589b6-df14-4996-9ac3-7c185f77a883",
    "deepnote_to_be_reexecuted": false,
    "source_hash": "e4484fe",
    "execution_start": 1639308219578,
    "execution_millis": 88278,
    "deepnote_output_heights": [
     21
    ],
    "deepnote_cell_type": "code"
   },
   "source": "test_acc(test_loader, best_3_jump, i2w_out)",
   "execution_count": null,
   "outputs": [
    {
     "output_type": "execute_result",
     "execution_count": 34,
     "data": {
      "text/plain": "0.0014274591227614846"
     },
     "metadata": {}
    }
   ]
  },
  {
   "cell_type": "code",
   "metadata": {
    "tags": [],
    "cell_id": "00066-7f9529be-3e23-403e-bbc5-cff8c08eba37",
    "deepnote_cell_type": "code"
   },
   "source": "#torch.save(best_3_jump, 'Trained models/best_3_jump.pth')\n#torch.save(losses_3_jump, 'Trained models/losses_3_jump.pth')",
   "execution_count": null,
   "outputs": []
  },
  {
   "cell_type": "markdown",
   "source": "**Best overall**",
   "metadata": {
    "tags": [],
    "cell_id": "00067-8fc6f1e9-41a4-44c7-8c58-a5dabe23be08",
    "deepnote_cell_type": "markdown"
   }
  },
  {
   "cell_type": "code",
   "metadata": {
    "tags": [],
    "cell_id": "00069-8f2548e5-5050-42ca-b0dc-d7323e6acfb6",
    "deepnote_to_be_reexecuted": false,
    "source_hash": "18a1d2c0",
    "execution_start": 1639314532343,
    "execution_millis": 71,
    "deepnote_cell_type": "code"
   },
   "source": "best_overall_32 = EncoderDecoderModel(len(i2w_inp), len(i2w_out),\n                                   hidden_size=200, num_layers=2, max_length=MAX_LENGTH,\n                                   dropout=0.5, rnn_type=nn.LSTM, attn=False)",
   "execution_count": null,
   "outputs": []
  },
  {
   "cell_type": "code",
   "metadata": {
    "tags": [],
    "cell_id": "00075-ca0f7c95-62c3-4444-9a31-1100733b0a69",
    "deepnote_to_be_reexecuted": false,
    "source_hash": "94d3d499",
    "execution_start": 1639314534946,
    "execution_millis": 1284690,
    "deepnote_cell_type": "code"
   },
   "source": "losses_32_bestoverall = train_iters(best_overall_32, 20000, print_every=400, plot_every=400)\n",
   "execution_count": null,
   "outputs": [
    {
     "name": "stdout",
     "text": "0m 29s (- 23m 52s) (400 2%) 1.3518\n0m 54s (- 21m 39s) (800 4%) 1.0828\n1m 20s (- 21m 2s) (1200 6%) 0.7948\n1m 46s (- 20m 24s) (1600 8%) 0.6845\n2m 11s (- 19m 43s) (2000 10%) 0.6308\n2m 36s (- 19m 9s) (2400 12%) 0.5634\n3m 1s (- 18m 37s) (2800 14%) 0.4810\n3m 26s (- 18m 5s) (3200 16%) 0.4458\n3m 52s (- 17m 38s) (3600 18%) 0.4239\n4m 17s (- 17m 10s) (4000 20%) 0.3944\n4m 44s (- 16m 48s) (4400 22%) 0.3811\n5m 9s (- 16m 19s) (4800 24%) 0.3931\n5m 34s (- 15m 51s) (5200 26%) 0.3227\n6m 1s (- 15m 28s) (5600 28%) 0.3008\n6m 26s (- 15m 2s) (6000 30%) 0.3308\n6m 51s (- 14m 35s) (6400 32%) 0.3198\n7m 16s (- 14m 7s) (6800 34%) 0.2949\n7m 42s (- 13m 43s) (7200 36%) 0.2642\n8m 8s (- 13m 17s) (7600 38%) 0.2772\n8m 34s (- 12m 51s) (8000 40%) 0.2893\n9m 1s (- 12m 27s) (8400 42%) 0.2503\n9m 25s (- 11m 59s) (8800 44%) 0.2295\n9m 53s (- 11m 36s) (9200 46%) 0.2230\n10m 18s (- 11m 9s) (9600 48%) 0.2140\n10m 46s (- 10m 46s) (10000 50%) 0.2575\n11m 11s (- 10m 19s) (10400 52%) 0.2097\n11m 37s (- 9m 54s) (10800 54%) 0.1925\n12m 6s (- 9m 30s) (11200 56%) 0.2386\n12m 31s (- 9m 4s) (11600 57%) 0.1712\n12m 59s (- 8m 39s) (12000 60%) 0.2228\n13m 24s (- 8m 13s) (12400 62%) 0.1685\n13m 49s (- 7m 46s) (12800 64%) 0.1983\n14m 14s (- 7m 20s) (13200 66%) 0.1638\n14m 39s (- 6m 54s) (13600 68%) 0.1761\n15m 5s (- 6m 27s) (14000 70%) 0.1754\n15m 31s (- 6m 2s) (14400 72%) 0.1519\n15m 58s (- 5m 36s) (14800 74%) 0.1390\n16m 22s (- 5m 10s) (15200 76%) 0.1241\n16m 47s (- 4m 44s) (15600 78%) 0.1228\n17m 13s (- 4m 18s) (16000 80%) 0.1461\n17m 38s (- 3m 52s) (16400 82%) 0.1238\n18m 3s (- 3m 26s) (16800 84%) 0.1148\n18m 28s (- 3m 0s) (17200 86%) 0.1130\n18m 53s (- 2m 34s) (17600 88%) 0.1178\n19m 18s (- 2m 8s) (18000 90%) 0.1279\n19m 43s (- 1m 42s) (18400 92%) 0.0960\n20m 8s (- 1m 17s) (18800 94%) 0.1052\n20m 33s (- 0m 51s) (19200 96%) 0.1036\n20m 59s (- 0m 25s) (19600 98%) 0.0978\n21m 24s (- 0m 0s) (20000 100%) 0.0905\n",
     "output_type": "stream"
    }
   ]
  },
  {
   "cell_type": "code",
   "metadata": {
    "tags": [],
    "cell_id": "00076-d4c1facf-e031-4318-8c31-b86406374f1f",
    "deepnote_to_be_reexecuted": false,
    "source_hash": "8f30d086",
    "execution_start": 1639315819672,
    "execution_millis": 320,
    "deepnote_output_heights": [
     252
    ],
    "deepnote_cell_type": "code"
   },
   "source": "plot_losses(losses_32_bestoverall)\n#plt.savefig('Figures/plot_losses_bestoverall32_jump.png');",
   "execution_count": null,
   "outputs": [
    {
     "data": {
      "text/plain": "<Figure size 432x288 with 1 Axes>",
      "image/png": "[encoded data removed]"
     },
     "metadata": {
      "needs_background": "light",
      "image/png": {
       "width": 372,
       "height": 250
      }
     },
     "output_type": "display_data"
    }
   ]
  },
  {
   "cell_type": "code",
   "metadata": {
    "tags": [],
    "cell_id": "00077-417716d8-14be-424d-850e-20cd24a50bc1",
    "deepnote_to_be_reexecuted": false,
    "source_hash": "1b68a5e9",
    "execution_start": 1639315820001,
    "execution_millis": 949,
    "deepnote_cell_type": "code"
   },
   "source": "evaluate_randomly(test_loader, best_overall_32, i2w_inp, i2w_out, n=3)",
   "execution_count": null,
   "outputs": [
    {
     "name": "stdout",
     "text": "> <SOS> run twice after jump opposite left\n= <SOS> I_TURN_LEFT I_TURN_LEFT I_JUMP I_RUN I_RUN\n< <SOS> I_TURN_LEFT I_TURN_LEFT I_WALK I_RUN I_RUN\n\n> <SOS> walk thrice and jump opposite right\n= <SOS> I_WALK I_WALK I_WALK I_TURN_RIGHT I_TURN_RIGHT I_JUMP\n< <SOS> I_WALK I_WALK I_WALK I_TURN_RIGHT I_TURN_RIGHT I_WALK\n\n> <SOS> turn left twice after jump right thrice\n= <SOS> I_TURN_RIGHT I_JUMP I_TURN_RIGHT I_JUMP I_TURN_RIGHT I_JUMP I_TURN_LEFT I_TURN_LEFT\n< <SOS> I_TURN_RIGHT I_TURN_RIGHT I_TURN_RIGHT I_TURN_RIGHT I_TURN_RIGHT I_TURN_LEFT I_TURN_LEFT\n\n",
     "output_type": "stream"
    }
   ]
  },
  {
   "cell_type": "code",
   "metadata": {
    "tags": [],
    "cell_id": "00078-01fef874-cf05-4407-8baa-89c1685e6ba8",
    "deepnote_to_be_reexecuted": false,
    "source_hash": "7a3046bd",
    "execution_start": 1639315820964,
    "execution_millis": 105405,
    "deepnote_output_heights": [
     21
    ],
    "deepnote_cell_type": "code"
   },
   "source": "test_acc(test_loader, best_overall_32, i2w_out)",
   "execution_count": null,
   "outputs": [
    {
     "output_type": "execute_result",
     "execution_count": 35,
     "data": {
      "text/plain": "0.0"
     },
     "metadata": {}
    }
   ]
  },
  {
   "cell_type": "code",
   "metadata": {
    "tags": [],
    "cell_id": "00079-de6b9299-9f58-4fe5-a1a9-b9f9b6ce3ed0",
    "deepnote_cell_type": "code"
   },
   "source": "#torch.save(best_overall_32, 'Trained models/bestoverall_3_jump.pth')\n#torch.save(losses_32_bestoverall, 'Trained models/lossesoverall_3_jump.pth')",
   "execution_count": null,
   "outputs": []
  },
  {
   "cell_type": "markdown",
   "source": "<a style='text-decoration:none;line-height:16px;display:flex;color:#5B5B62;padding:10px;justify-content:end;' href='https://deepnote.com?utm_source=created-in-deepnote-cell&projectId=0553e0ac-0d27-456b-ad2a-70b39dd058c4' target=\"_blank\">\n<img alt='Created in deepnote.com' style='display:inline;max-height:16px;margin:0px;margin-right:7.5px;' src='data:image/svg+xml;base64,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' > </img>\nCreated in <span style='font-weight:600;margin-left:4px;'>Deepnote</span></a>",
   "metadata": {
    "tags": [],
    "created_in_deepnote_cell": true,
    "deepnote_cell_type": "markdown"
   }
  }
 ],
 "nbformat": 4,
 "nbformat_minor": 2,
 "metadata": {
  "deepnote": {
   "is_reactive": false
  },
  "deepnote_execution_queue": [],
  "deepnote_notebook_id": "1c6f7088-dcdb-4760-b745-911223db2987",
  "kernelspec": {
   "display_name": "Python 3",
   "language": "python",
   "name": "python3"
  },
  "language_info": {
   "codemirror_mode": {
    "name": "ipython",
    "version": 3
   },
   "file_extension": ".py",
   "mimetype": "text/x-python",
   "name": "python",
   "nbconvert_exporter": "python",
   "pygments_lexer": "ipython3",
   "version": "3.6.9"
  }
 }
}